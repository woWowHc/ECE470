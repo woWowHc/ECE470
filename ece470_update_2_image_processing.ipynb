{
  "nbformat": 4,
  "nbformat_minor": 0,
  "metadata": {
    "colab": {
      "name": "ece470_update_2_image_processing.ipynb",
      "provenance": []
    },
    "kernelspec": {
      "name": "python3",
      "display_name": "Python 3"
    },
    "language_info": {
      "name": "python"
    }
  },
  "cells": [
    {
      "cell_type": "code",
      "metadata": {
        "id": "HjmEjSlrSvEj"
      },
      "source": [
        "import cv2\n",
        "import numpy as np\n",
        "import matplotlib.pyplot as plt"
      ],
      "execution_count": null,
      "outputs": []
    },
    {
      "cell_type": "code",
      "metadata": {
        "colab": {
          "base_uri": "https://localhost:8080/"
        },
        "id": "3bR4IdynSyra",
        "outputId": "3bbf4ddb-ffcb-40d1-d572-87274cc75be7"
      },
      "source": [
        "\n",
        "\n",
        "img = cv2.imread('/content/drive/MyDrive/apple.png', cv2.IMREAD_UNCHANGED)\n",
        "\n",
        "#convert img to grey\n",
        "img_grey = cv2.cvtColor(img,cv2.COLOR_BGR2GRAY)\n",
        "#set a thresh\n",
        "thresh = 100\n",
        "#get threshold image\n",
        "ret,thresh_img = cv2.threshold(img_grey, thresh, 255, cv2.THRESH_BINARY)\n",
        "#find contours\n",
        "contours, hierarchy = cv2.findContours(thresh_img, cv2.RETR_TREE, cv2.CHAIN_APPROX_SIMPLE)\n",
        "\n",
        "#create an empty image for contours\n",
        "img_contours = np.zeros(img.shape)\n",
        "# draw the contours on the empty image\n",
        "cv2.drawContours(img_contours, contours, -1, (0,255,0), 3)\n",
        "#save image\n",
        "cv2.imwrite('/content/drive/MyDrive/apple.png',img_contours)\n",
        "\n"
      ],
      "execution_count": null,
      "outputs": [
        {
          "output_type": "execute_result",
          "data": {
            "text/plain": [
              "True"
            ]
          },
          "metadata": {},
          "execution_count": 3
        }
      ]
    },
    {
      "cell_type": "code",
      "metadata": {
        "colab": {
          "base_uri": "https://localhost:8080/",
          "height": 821
        },
        "id": "fW4KlwbBUqIL",
        "outputId": "59e59f77-5555-4599-f1eb-982ef75bf626"
      },
      "source": [
        "image = cv2.imread('/content/drive/MyDrive/apple.png')\n",
        "image = cv2.cvtColor(image, cv2.COLOR_BGR2RGB)\n",
        "mask = np.zeros(image.shape)\n",
        "plt.imshow(image)\n",
        "plt.show()\n",
        "# convert to grayscale\n",
        "gray = cv2.cvtColor(image, cv2.COLOR_RGB2GRAY)\n",
        "# create a binary thresholded image\n",
        "_, binary = cv2.threshold(gray, 225, 255, cv2.THRESH_BINARY_INV)\n",
        "# show it\n",
        "plt.imshow(binary, cmap=\"gray\")\n",
        "plt.show()\n",
        "# find the contours from the thresholded image\n",
        "contours, hierarchy = cv2.findContours(binary, cv2.RETR_TREE, cv2.CHAIN_APPROX_SIMPLE)\n",
        "print(len(contours))\n",
        "# draw all contours\n",
        "mask = cv2.drawContours(mask, contours, -1, (0, 255, 0), 2)\n",
        "mask = cv2.pyrDown(mask)\n",
        "mask = cv2.pyrDown(mask)\n",
        "mask = cv2.pyrDown(mask,(60,60))\n",
        "mask = mask [:,:,1]\n",
        "mask[mask != 0] =255\n",
        "print(mask.shape)\n",
        "mask =cv2.resize(mask,(30,30))\n",
        "print(mask.shape)\n",
        "cv2.imwrite(\"/content/drive/MyDrive/binary_apple.png\",mask)\n",
        "plt.imshow(mask)\n",
        "plt.show()\n",
        "\n"
      ],
      "execution_count": null,
      "outputs": [
        {
          "output_type": "display_data",
          "data": {
            "image/png": "[encoded data removed]",
            "text/plain": [
              "<Figure size 432x288 with 1 Axes>"
            ]
          },
          "metadata": {
            "needs_background": "light"
          }
        },
        {
          "output_type": "display_data",
          "data": {
            "image/png": "[encoded data removed]",
            "text/plain": [
              "<Figure size 432x288 with 1 Axes>"
            ]
          },
          "metadata": {
            "needs_background": "light"
          }
        },
        {
          "output_type": "stream",
          "name": "stdout",
          "text": [
            "10\n",
            "(103, 90)\n",
            "(30, 30)\n"
          ]
        },
        {
          "output_type": "display_data",
          "data": {
            "image/png": "[encoded data removed]",
            "text/plain": [
              "<Figure size 432x288 with 1 Axes>"
            ]
          },
          "metadata": {
            "needs_background": "light"
          }
        }
      ]
    },
    {
      "cell_type": "code",
      "metadata": {
        "colab": {
          "base_uri": "https://localhost:8080/"
        },
        "id": "E07S-pof2svR",
        "outputId": "656277ec-70be-4b26-f288-0dc608acdb87"
      },
      "source": [
        "count = 0\n",
        "mask[mask>np.mean(mask)] = 255\n",
        "for i in range(0,mask.shape[0]):\n",
        "  for j in range(0,mask.shape[1]):\n",
        "    if mask[i][j] == 255 :\n",
        "      count = count +1\n",
        "\n",
        "print(count)\n"
      ],
      "execution_count": null,
      "outputs": [
        {
          "output_type": "stream",
          "name": "stdout",
          "text": [
            "245\n"
          ]
        }
      ]
    },
    {
      "cell_type": "code",
      "metadata": {
        "colab": {
          "base_uri": "https://localhost:8080/"
        },
        "id": "VlWzlEpoftib",
        "outputId": "427a913b-4530-4b58-dbf2-c46ef95c2d14"
      },
      "source": [
        "print(contours)"
      ],
      "execution_count": null,
      "outputs": [
        {
          "output_type": "stream",
          "name": "stdout",
          "text": [
            "[[[ 49 580]]\n",
            "\n",
            " [[ 50 579]]\n",
            "\n",
            " [[ 69 579]]\n",
            "\n",
            " [[ 70 580]]\n",
            "\n",
            " [[ 70 599]]\n",
            "\n",
            " [[ 69 600]]\n",
            "\n",
            " [[ 50 600]]\n",
            "\n",
            " [[ 49 599]]]\n"
          ]
        }
      ]
    },
    {
      "cell_type": "code",
      "metadata": {
        "colab": {
          "base_uri": "https://localhost:8080/",
          "height": 236
        },
        "id": "NiflLLLxVeLa",
        "outputId": "05dfec21-8f78-45ce-e546-603e197bbb9f"
      },
      "source": [
        "image = mask\n",
        "row,col = image.shape\n",
        "i = int(row/2)\n",
        "j = int(col/2)\n",
        "n = 1\n",
        "counter = 0\n",
        "while (image.sum() != 0 or counter <10000) :\n",
        "  counter = counter +1\n",
        "  if image[i][j] == 255:\n",
        "    image[i][j] =0\n",
        "  if(j != col-1):  \n",
        "    if(image[i][j+1] == 255):\n",
        "      j = j + 1\n",
        "      continue\n",
        "  if(i!=row-1):\n",
        "\n",
        "    if(image[i+1][j]==255):\n",
        "      \n",
        "      i = i +1\n",
        "      continue \n",
        "  if(j!=0):\n",
        "    if(image[i][j-1]==255):\n",
        "      j = j-1\n",
        "      continue\n",
        "  if(i!=0):\n",
        "    \n",
        "    if(image[i-1][j]==255):\n",
        "      i = i-1\n",
        "      continue\n",
        "\n"
      ],
      "execution_count": null,
      "outputs": [
        {
          "output_type": "error",
          "ename": "KeyboardInterrupt",
          "evalue": "ignored",
          "traceback": [
            "\u001b[0;31m---------------------------------------------------------------------------\u001b[0m",
            "\u001b[0;31mKeyboardInterrupt\u001b[0m                         Traceback (most recent call last)",
            "\u001b[0;32m<ipython-input-65-506acdea551c>\u001b[0m in \u001b[0;36m<module>\u001b[0;34m()\u001b[0m\n\u001b[1;32m     15\u001b[0m   \u001b[0;32mif\u001b[0m\u001b[0;34m(\u001b[0m\u001b[0mi\u001b[0m\u001b[0;34m!=\u001b[0m\u001b[0mrow\u001b[0m\u001b[0;34m-\u001b[0m\u001b[0;36m1\u001b[0m\u001b[0;34m)\u001b[0m\u001b[0;34m:\u001b[0m\u001b[0;34m\u001b[0m\u001b[0;34m\u001b[0m\u001b[0m\n\u001b[1;32m     16\u001b[0m \u001b[0;34m\u001b[0m\u001b[0m\n\u001b[0;32m---> 17\u001b[0;31m     \u001b[0;32mif\u001b[0m\u001b[0;34m(\u001b[0m\u001b[0mimage\u001b[0m\u001b[0;34m[\u001b[0m\u001b[0mi\u001b[0m\u001b[0;34m+\u001b[0m\u001b[0;36m1\u001b[0m\u001b[0;34m]\u001b[0m\u001b[0;34m[\u001b[0m\u001b[0mj\u001b[0m\u001b[0;34m]\u001b[0m\u001b[0;34m==\u001b[0m\u001b[0;36m255\u001b[0m\u001b[0;34m)\u001b[0m\u001b[0;34m:\u001b[0m\u001b[0;34m\u001b[0m\u001b[0;34m\u001b[0m\u001b[0m\n\u001b[0m\u001b[1;32m     18\u001b[0m \u001b[0;34m\u001b[0m\u001b[0m\n\u001b[1;32m     19\u001b[0m       \u001b[0mi\u001b[0m \u001b[0;34m=\u001b[0m \u001b[0mi\u001b[0m \u001b[0;34m+\u001b[0m\u001b[0;36m1\u001b[0m\u001b[0;34m\u001b[0m\u001b[0;34m\u001b[0m\u001b[0m\n",
            "\u001b[0;31mKeyboardInterrupt\u001b[0m: "
          ]
        }
      ]
    },
    {
      "cell_type": "code",
      "metadata": {
        "colab": {
          "base_uri": "https://localhost:8080/",
          "height": 268
        },
        "id": "BhP9wJqMncMt",
        "outputId": "104965a2-c1ca-43b0-f60d-ab4a8fba1c83"
      },
      "source": [
        "plt.imshow(image)\n",
        "plt.show()"
      ],
      "execution_count": null,
      "outputs": [
        {
          "output_type": "display_data",
          "data": {
            "image/png": "[encoded data removed]",
            "text/plain": [
              "<Figure size 432x288 with 1 Axes>"
            ]
          },
          "metadata": {
            "needs_background": "light"
          }
        }
      ]
    }
  ]
}